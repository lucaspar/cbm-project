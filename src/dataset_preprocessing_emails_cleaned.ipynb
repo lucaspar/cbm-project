{
 "metadata": {
  "language_info": {
   "codemirror_mode": {
    "name": "ipython",
    "version": 3
   },
   "file_extension": ".py",
   "mimetype": "text/x-python",
   "name": "python",
   "nbconvert_exporter": "python",
   "pygments_lexer": "ipython3",
   "version": "3.8.3"
  },
  "orig_nbformat": 2,
  "kernelspec": {
   "name": "python3",
   "display_name": "Python 3.8.3 64-bit",
   "metadata": {
    "interpreter": {
     "hash": "71d3b65afc31d493d8efde9e0987204f036aa8d17eb6b2acb102bd65bfcd53e4"
    }
   }
  }
 },
 "nbformat": 4,
 "nbformat_minor": 2,
 "cells": [
  {
   "cell_type": "code",
   "execution_count": 23,
   "metadata": {},
   "outputs": [],
   "source": [
    "import pandas as pd\n",
    "import datetime"
   ]
  },
  {
   "cell_type": "code",
   "execution_count": 24,
   "metadata": {},
   "outputs": [],
   "source": [
    "emails_cleaned = pd.read_csv('emails_cleaned.csv')\n",
    "emails_cleaned = emails_cleaned[[\"Date\", \"From\", \"To\"]]\n",
    "\n",
    "def str2datetime(Date):\n",
    "    Date = Date.split(\"(\")[0]\n",
    "    date_time_obj = datetime.datetime.strptime(Date, '%a, %d %b %Y %H:%M:%S %z ')\n",
    "    return date_time_obj.date()\n",
    "\n",
    "dates = emails_cleaned['Date'].apply(str2datetime)\n",
    "# dates = pd.to_datetime(dates, infer_datetime_format=True)\n"
   ]
  },
  {
   "cell_type": "code",
   "execution_count": 25,
   "metadata": {},
   "outputs": [],
   "source": [
    "emails_cleaned.insert(0,'Dates',dates)\n",
    "emails_cleaned = emails_cleaned.drop(columns = ['Date'])\n",
    "emails_cleaned = emails_cleaned.dropna()\n",
    "emails_cleaned = emails_cleaned.drop_duplicates()\n",
    "emails_cleaned = emails_cleaned.sort_values(by=['Dates'])"
   ]
  },
  {
   "cell_type": "code",
   "execution_count": 26,
   "metadata": {},
   "outputs": [
    {
     "output_type": "execute_result",
     "data": {
      "text/plain": [
       "             Dates                      From  \\\n",
       "443793  0001-05-30  payables.ibuyit@enron.co   \n",
       "342330  0001-06-07  payables.ibuyit@enron.co   \n",
       "390578  0001-06-18  payables.ibuyit@enron.co   \n",
       "391543  0001-07-24  payables.ibuyit@enron.co   \n",
       "288078  0001-08-01  payables.ibuyit@enron.co   \n",
       "...            ...                       ...   \n",
       "43809   2020-12-24        jody421@hotmail.co   \n",
       "43852   2020-12-29        jody421@hotmail.co   \n",
       "517041  2043-12-28       cramer@cadvision.co   \n",
       "517038  2044-01-02       cramer@cadvision.co   \n",
       "517035  2044-01-04       cramer@cadvision.co   \n",
       "\n",
       "                                                       To  \n",
       "443793                             jeff.skilling@enron.co  \n",
       "342330                                scott.neal@enron.co  \n",
       "390578                          holden.salisbury@enron.co  \n",
       "391543                          holden.salisbury@enron.co  \n",
       "288078                            michelle.lokay@enron.co  \n",
       "...                                                   ...  \n",
       "43809             undisclosed.recipients@mailman.enron.co  \n",
       "43852             undisclosed.recipients@mailman.enron.co  \n",
       "517041  linsider.jed@enron.com, john.zufferli@enron.co...  \n",
       "517038                             john.zufferli@enron.co  \n",
       "517035                             john.zufferli@enron.co  \n",
       "\n",
       "[197992 rows x 3 columns]"
      ],
      "text/html": "<div>\n<style scoped>\n    .dataframe tbody tr th:only-of-type {\n        vertical-align: middle;\n    }\n\n    .dataframe tbody tr th {\n        vertical-align: top;\n    }\n\n    .dataframe thead th {\n        text-align: right;\n    }\n</style>\n<table border=\"1\" class=\"dataframe\">\n  <thead>\n    <tr style=\"text-align: right;\">\n      <th></th>\n      <th>Dates</th>\n      <th>From</th>\n      <th>To</th>\n    </tr>\n  </thead>\n  <tbody>\n    <tr>\n      <th>443793</th>\n      <td>0001-05-30</td>\n      <td>payables.ibuyit@enron.co</td>\n      <td>jeff.skilling@enron.co</td>\n    </tr>\n    <tr>\n      <th>342330</th>\n      <td>0001-06-07</td>\n      <td>payables.ibuyit@enron.co</td>\n      <td>scott.neal@enron.co</td>\n    </tr>\n    <tr>\n      <th>390578</th>\n      <td>0001-06-18</td>\n      <td>payables.ibuyit@enron.co</td>\n      <td>holden.salisbury@enron.co</td>\n    </tr>\n    <tr>\n      <th>391543</th>\n      <td>0001-07-24</td>\n      <td>payables.ibuyit@enron.co</td>\n      <td>holden.salisbury@enron.co</td>\n    </tr>\n    <tr>\n      <th>288078</th>\n      <td>0001-08-01</td>\n      <td>payables.ibuyit@enron.co</td>\n      <td>michelle.lokay@enron.co</td>\n    </tr>\n    <tr>\n      <th>...</th>\n      <td>...</td>\n      <td>...</td>\n      <td>...</td>\n    </tr>\n    <tr>\n      <th>43809</th>\n      <td>2020-12-24</td>\n      <td>jody421@hotmail.co</td>\n      <td>undisclosed.recipients@mailman.enron.co</td>\n    </tr>\n    <tr>\n      <th>43852</th>\n      <td>2020-12-29</td>\n      <td>jody421@hotmail.co</td>\n      <td>undisclosed.recipients@mailman.enron.co</td>\n    </tr>\n    <tr>\n      <th>517041</th>\n      <td>2043-12-28</td>\n      <td>cramer@cadvision.co</td>\n      <td>linsider.jed@enron.com, john.zufferli@enron.co...</td>\n    </tr>\n    <tr>\n      <th>517038</th>\n      <td>2044-01-02</td>\n      <td>cramer@cadvision.co</td>\n      <td>john.zufferli@enron.co</td>\n    </tr>\n    <tr>\n      <th>517035</th>\n      <td>2044-01-04</td>\n      <td>cramer@cadvision.co</td>\n      <td>john.zufferli@enron.co</td>\n    </tr>\n  </tbody>\n</table>\n<p>197992 rows × 3 columns</p>\n</div>"
     },
     "metadata": {},
     "execution_count": 26
    }
   ],
   "source": [
    "emails_cleaned"
   ]
  },
  {
   "cell_type": "code",
   "execution_count": null,
   "metadata": {},
   "outputs": [],
   "source": []
  }
 ]
}